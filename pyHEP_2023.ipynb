{
 "cells": [
  {
   "cell_type": "markdown",
   "id": "3590b883-c745-4ef8-b230-ac4d81f660a6",
   "metadata": {
    "tags": []
   },
   "source": [
    "# Creating a simple GDML/Geant4 geometry"
   ]
  },
  {
   "cell_type": "markdown",
   "id": "d54086f0-666e-438b-b895-106ae5e6ec7a",
   "metadata": {
    "tags": []
   },
   "source": [
    "## Create a registry "
   ]
  },
  {
   "cell_type": "markdown",
   "id": "12094069-5e19-4f57-be7f-b018e4d9aee4",
   "metadata": {
    "tags": []
   },
   "source": [
    "GDML really is a gloabl namespace for names of geometry objects. This global namescape needs to managed to avoid name clashes etc. This is very important when looking at geometry compositing"
   ]
  },
  {
   "cell_type": "code",
   "execution_count": 1,
   "id": "32f7e405-e1af-4b0f-a07c-46f2723ce3e0",
   "metadata": {
    "tags": []
   },
   "outputs": [
    {
     "name": "stdout",
     "output_type": "stream",
     "text": [
      "Welcome to JupyROOT 6.28/04\n"
     ]
    }
   ],
   "source": [
    "from pyg4ometry import geant4 as _g4\n",
    "from pyg4ometry import visualisation as _vi\n",
    "from pyg4ometry import gdml as _gdml"
   ]
  },
  {
   "cell_type": "code",
   "execution_count": 2,
   "id": "f031b38c-065c-42ce-901d-f09572594172",
   "metadata": {
    "tags": []
   },
   "outputs": [],
   "source": [
    "reg = _g4.Registry()\n",
    "reg.clear()"
   ]
  },
  {
   "cell_type": "markdown",
   "id": "d6347191-9f03-4973-a909-76a7fe3f26b2",
   "metadata": {
    "tags": []
   },
   "source": [
    "## Create a few NIST materials"
   ]
  },
  {
   "cell_type": "code",
   "execution_count": 3,
   "id": "25a6ecfb-76e0-46d8-af31-c93e9e1f71c4",
   "metadata": {
    "tags": []
   },
   "outputs": [],
   "source": [
    "worldMaterial = _g4.nist_material_2geant4Material(\"G4_Galactic\", reg)\n",
    "boxMaterial   = _g4.nist_material_2geant4Material(\"G4_Au\", reg)"
   ]
  },
  {
   "cell_type": "markdown",
   "id": "c35ee515-e3a0-4ae2-ad86-405cc8607394",
   "metadata": {},
   "source": [
    "## Create some solids"
   ]
  },
  {
   "cell_type": "code",
   "execution_count": 4,
   "id": "04933f8e-d4ba-40d2-a08b-222238d6d173",
   "metadata": {
    "tags": []
   },
   "outputs": [],
   "source": [
    "worldSolid = _g4.solid.Box(\"ws\", 100, 100, 100, reg, \"mm\")\n",
    "boxSolid   = _g4.solid.Box(\"bs\", 10, 10, 10, reg, \"mm\")"
   ]
  },
  {
   "cell_type": "markdown",
   "id": "e2e599b2-5d15-4be2-b45f-46478fb267dc",
   "metadata": {},
   "source": [
    "## Create logical and physical volumes"
   ]
  },
  {
   "cell_type": "code",
   "execution_count": 5,
   "id": "a9f730e9-8976-4b56-bf64-d9ef1316470b",
   "metadata": {
    "tags": []
   },
   "outputs": [],
   "source": [
    "worldLogical = _g4.LogicalVolume(worldSolid, worldMaterial, \"worldLogical\", reg)\n",
    "boxLogical   = _g4.LogicalVolume(boxSolid, boxMaterial, \"boxlogical\", reg)\n",
    "boxPhysical  = _g4.PhysicalVolume([0, 0, 0], [0, 0, 0], boxLogical, \"boxPhysical1\", worldLogical, reg)\n",
    "reg.setWorld(worldLogical.name)"
   ]
  },
  {
   "cell_type": "markdown",
   "id": "a90da889-b22f-43cc-8668-a88ba77464ce",
   "metadata": {
    "tags": []
   },
   "source": [
    "## Visualise"
   ]
  },
  {
   "cell_type": "code",
   "execution_count": 6,
   "id": "9aaccf2c-6e67-42fb-89a9-fd455a4bb0f2",
   "metadata": {
    "tags": []
   },
   "outputs": [],
   "source": [
    "v = _vi.VtkViewerNew()\n",
    "v.addLogicalVolume(reg.getWorldVolume())\n",
    "v.buildPipelinesAppend()\n",
    "v.view(interactive=True)"
   ]
  },
  {
   "cell_type": "markdown",
   "id": "46ac7a5d-72a5-4b01-80d2-522f430473d4",
   "metadata": {
    "tags": []
   },
   "source": [
    "## Write to GDML file"
   ]
  },
  {
   "cell_type": "code",
   "execution_count": 7,
   "id": "357dcecc-38a2-4eb6-a9fc-be040d53ce92",
   "metadata": {
    "tags": []
   },
   "outputs": [],
   "source": [
    "w = _gdml.Writer()\n",
    "w.addDetector(reg)\n",
    "w.write(\"box.gdml\")"
   ]
  },
  {
   "cell_type": "markdown",
   "id": "49fd47cc-f23a-4273-ac9a-c6546f1d7ac1",
   "metadata": {
    "jp-MarkdownHeadingCollapsed": true,
    "tags": []
   },
   "source": [
    "# Parameterised geometry"
   ]
  },
  {
   "cell_type": "markdown",
   "id": "da6d053b-1a48-412f-859c-3e5a3f77ce8f",
   "metadata": {},
   "source": [
    "GDML supports variables which are evaluated when the geometry is used. "
   ]
  },
  {
   "cell_type": "code",
   "execution_count": 49,
   "id": "11fc3991-8546-4673-b050-317fbf568d3e",
   "metadata": {
    "tags": []
   },
   "outputs": [],
   "source": [
    "from pyg4ometry import geant4 as _g4\n",
    "from pyg4ometry import visualisation as _vi\n",
    "from pyg4ometry import gdml as _gdml\n",
    "reg = _g4.Registry()\n",
    "reg.clear()"
   ]
  },
  {
   "cell_type": "code",
   "execution_count": 50,
   "id": "5837629d-cb42-4331-a132-f960591c3621",
   "metadata": {
    "tags": []
   },
   "outputs": [],
   "source": [
    "worldSize = _gdml.Constant(\"boxSize\", 100, reg)\n",
    "boxSize   = _gdml.Constant(\"worldSize\", 10, reg)"
   ]
  },
  {
   "cell_type": "code",
   "execution_count": 51,
   "id": "7fe0e550-fecf-4dc3-9ab4-97b9e346f074",
   "metadata": {
    "tags": []
   },
   "outputs": [],
   "source": [
    "# materials \n",
    "worldMaterial = _g4.nist_material_2geant4Material(\"G4_Galactic\", reg)\n",
    "boxMaterial   = _g4.nist_material_2geant4Material(\"G4_Au\", reg)\n",
    "\n",
    "# solids \n",
    "worldSolid = _g4.solid.Box(\"ws\", worldSize, worldSize, worldSize, reg, \"mm\")\n",
    "boxSolid = _g4.solid.Box(\"bs\", boxSize, boxSize, boxSize, reg, \"mm\")\n",
    "\n",
    "# structure\n",
    "worldLogical = _g4.LogicalVolume(worldSolid, worldMaterial, \"worldLogical\", reg)\n",
    "boxLogical   = _g4.LogicalVolume(boxSolid, boxMaterial, \"boxlogical\", reg)\n",
    "boxPhysical  = _g4.PhysicalVolume([0, 0, 0], [0, 0, 0], boxLogical, \"boxPhysical1\", worldLogical, reg)\n",
    "\n",
    "# visualise\n",
    "reg.setWorld(worldLogical.name)\n",
    "v = _vi.VtkViewerNew()\n",
    "v.addLogicalVolume(reg.getWorldVolume())\n",
    "v.buildPipelinesAppend()\n",
    "v.view(interactive=True)"
   ]
  },
  {
   "cell_type": "markdown",
   "id": "1f438bdb-573e-4d74-b744-5cee11601935",
   "metadata": {
    "tags": []
   },
   "source": [
    "### Calculations using parameters"
   ]
  },
  {
   "cell_type": "code",
   "execution_count": 52,
   "id": "ef38eaa4-8732-4ede-a7cf-2dfcad081767",
   "metadata": {
    "tags": []
   },
   "outputs": [],
   "source": [
    "boxSize = worldSize/10"
   ]
  },
  {
   "cell_type": "code",
   "execution_count": 53,
   "id": "104c6b46-d328-4e70-a127-61e3c36dad07",
   "metadata": {
    "tags": []
   },
   "outputs": [
    {
     "data": {
      "text/plain": [
       "Constant : var_boxSize_div_10.000000000000000 = expr_var_boxSize_div_10.000000000000000 : (boxSize) / (10.000000000000000)"
      ]
     },
     "execution_count": 53,
     "metadata": {},
     "output_type": "execute_result"
    }
   ],
   "source": [
    "boxSize"
   ]
  },
  {
   "cell_type": "code",
   "execution_count": 54,
   "id": "302a6870-4d09-4811-b2da-5afa4b890068",
   "metadata": {
    "tags": []
   },
   "outputs": [],
   "source": [
    "import numpy as _np\n",
    "reg = _g4.Registry()\n",
    "reg.clear()\n",
    "\n",
    "# materials \n",
    "worldMaterial = _g4.nist_material_2geant4Material(\"G4_Galactic\", reg)\n",
    "boxMaterial   = _g4.nist_material_2geant4Material(\"G4_Au\", reg)\n",
    "\n",
    "# solids \n",
    "worldSolid = _g4.solid.Box(\"ws\", worldSize, worldSize, worldSize, reg, \"mm\")\n",
    "boxSolid = _g4.solid.Box(\"bs\", boxSize, boxSize, boxSize, reg, \"mm\")\n",
    "\n",
    "ringRadius = _gdml.Constant(\"ringSize\", 50, reg)\n",
    "\n",
    "# structure\n",
    "worldLogical = _g4.LogicalVolume(worldSolid, worldMaterial, \"worldLogical\", reg)\n",
    "boxLogical   = _g4.LogicalVolume(boxSolid, boxMaterial, \"boxlogical\", reg)\n",
    "\n",
    "for i in range(0,20,1) :\n",
    "    ic = _gdml.Constant(\"i_\"+str(i),i/20,reg)\n",
    "    phi = 2*_np.pi*ic\n",
    "    x = ringRadius*_gdml.cos(phi)\n",
    "    y = ringRadius*_gdml.sin(phi)\n",
    "    \n",
    "    boxPhysical  = _g4.PhysicalVolume([0, 0, -phi], [x, y, 0], boxLogical, \"boxPhysical_\"+str(i), worldLogical, reg)\n",
    "\n",
    "# visualise\n",
    "reg.setWorld(worldLogical.name)\n",
    "v = _vi.VtkViewerNew()\n",
    "v.addLogicalVolume(reg.getWorldVolume())\n",
    "v.buildPipelinesAppend()\n",
    "v.view(interactive=True)"
   ]
  },
  {
   "cell_type": "markdown",
   "id": "6692eb3d-c1a4-4c5c-91cf-52301ba7b310",
   "metadata": {
    "tags": []
   },
   "source": [
    "Important to note that Constants are written to the GDML file"
   ]
  },
  {
   "cell_type": "code",
   "execution_count": 55,
   "id": "ac7ea149-597a-42ff-89c5-c5be6255e7b6",
   "metadata": {
    "tags": []
   },
   "outputs": [],
   "source": [
    "w = _gdml.Writer()\n",
    "w.addDetector(reg)\n",
    "w.write(\"boxRing.gdml\")"
   ]
  },
  {
   "cell_type": "code",
   "execution_count": 56,
   "id": "4394933b-672d-4b63-8d98-f8726292cdee",
   "metadata": {
    "collapsed": true,
    "jupyter": {
     "outputs_hidden": true
    },
    "tags": []
   },
   "outputs": [],
   "source": [
    "!cat boxRing.gdml"
   ]
  },
  {
   "cell_type": "markdown",
   "id": "cb63b011-e3ff-4ca8-a128-f1043d609fde",
   "metadata": {
    "jp-MarkdownHeadingCollapsed": true,
    "tags": []
   },
   "source": [
    "# Loading, understanding and  editing geometry"
   ]
  },
  {
   "cell_type": "code",
   "execution_count": 1,
   "id": "c1a04168-d084-427a-b68d-ec8582505b57",
   "metadata": {
    "tags": []
   },
   "outputs": [
    {
     "name": "stdout",
     "output_type": "stream",
     "text": [
      "Welcome to JupyROOT 6.28/04\n"
     ]
    }
   ],
   "source": [
    "from pyg4ometry import gdml as _gdml"
   ]
  },
  {
   "cell_type": "code",
   "execution_count": 5,
   "id": "67b5901b-727f-4b44-beac-b7e8588101fb",
   "metadata": {
    "tags": []
   },
   "outputs": [],
   "source": [
    "r = _gdml.Reader(\"box.gdml\")\n",
    "reg = r.getRegistry()"
   ]
  },
  {
   "cell_type": "code",
   "execution_count": 10,
   "id": "f8b63134-13f5-412e-824f-38a19c6d114f",
   "metadata": {
    "tags": []
   },
   "outputs": [
    {
     "data": {
      "text/plain": [
       "{'ws': Box : ws Expression : ws_pX = expr_ws_pX : 100 Expression : ws_pY = expr_ws_pY : 100 Expression : ws_pZ = expr_ws_pZ : 100,\n",
       " 'bs': Box : bs Expression : bs_pX = expr_bs_pX : 10 Expression : bs_pY = expr_bs_pY : 10 Expression : bs_pZ = expr_bs_pZ : 10}"
      ]
     },
     "execution_count": 10,
     "metadata": {},
     "output_type": "execute_result"
    }
   ],
   "source": [
    "reg.solidDict"
   ]
  },
  {
   "cell_type": "code",
   "execution_count": 13,
   "id": "49b5a037-ca74-4cfb-8230-a0ea7eb1ea35",
   "metadata": {
    "tags": []
   },
   "outputs": [
    {
     "data": {
      "text/plain": [
       "{'G4_H_1': <Isotope: G4_H_1>,\n",
       " 'G4_H_2': <Isotope: G4_H_2>,\n",
       " 'G4_H': <Element: G4_H>,\n",
       " 'G4_Au': <Element: G4_Au>,\n",
       " 'G4_Galactic': <Material: G4_Galactic>,\n",
       " 'Material_G4_Au': <Material: Material_G4_Au>}"
      ]
     },
     "execution_count": 13,
     "metadata": {},
     "output_type": "execute_result"
    }
   ],
   "source": [
    "reg.materialDict"
   ]
  },
  {
   "cell_type": "code",
   "execution_count": 16,
   "id": "b463f4df-77be-4024-a0ea-b012ff5c968c",
   "metadata": {
    "tags": []
   },
   "outputs": [],
   "source": [
    "worldLogical = reg.getWorldVolume()"
   ]
  },
  {
   "cell_type": "markdown",
   "id": "d0d45d7e-5810-4980-b99b-073a7341fd75",
   "metadata": {
    "tags": []
   },
   "source": [
    "# Importing other formats"
   ]
  },
  {
   "cell_type": "code",
   "execution_count": 32,
   "id": "9ed57448-3f21-42e9-97c2-6e0573e52939",
   "metadata": {
    "tags": []
   },
   "outputs": [],
   "source": [
    "def displaySolid(solid) :\n",
    "    reg = _g4.Registry()\n",
    "    \n",
    "    # materials \n",
    "    worldMaterial = _g4.nist_material_2geant4Material(\"G4_Galactic\", reg)\n",
    "    material   = _g4.nist_material_2geant4Material(\"G4_Au\", reg)\n",
    "\n",
    "    # solids \n",
    "    worldSolid = _g4.solid.Box(\"worldSolid\", 25, 25, 25, reg, \"mm\")\n",
    "\n",
    "    # structure\n",
    "    worldLogical = _g4.LogicalVolume(worldSolid, worldMaterial, \"worldLogical\", reg)\n",
    "    logical   = _g4.LogicalVolume(solid, material, \"boxlogical\", reg)\n",
    "    physical  = _g4.PhysicalVolume([0, 0, 0], [0, 0, 0], logical, \"boxPhysical1\", worldLogical, reg)\n",
    "\n",
    "    # visualise\n",
    "    reg.setWorld(worldLogical.name)\n",
    "    v = _vi.VtkViewerNew()\n",
    "    v.addLogicalVolume(reg.getWorldVolume())\n",
    "    v.buildPipelinesAppend()\n",
    "    v.view(interactive=True)"
   ]
  },
  {
   "cell_type": "code",
   "execution_count": 13,
   "id": "57255590-9674-451f-b8dc-bd09e79273f7",
   "metadata": {
    "tags": []
   },
   "outputs": [],
   "source": [
    "from pyg4ometry import stl as _stl"
   ]
  },
  {
   "cell_type": "code",
   "execution_count": 77,
   "id": "2526cbb2-14fe-40c9-9588-01c09e5d7b17",
   "metadata": {
    "tags": []
   },
   "outputs": [],
   "source": [
    "stl = _stl.Reader(\"./utah_teapot.stl\")\n",
    "stlSolid = stl.getSolid()\n",
    "displaySolid(stlSolid)"
   ]
  },
  {
   "cell_type": "code",
   "execution_count": null,
   "id": "bc4d1423-e808-40ea-b3b8-0a986417fe7d",
   "metadata": {
    "tags": []
   },
   "outputs": [],
   "source": [
    "from pyg4ometry import pyoce as _pyoce\n",
    "from pyg4ometry import convert as _con\n",
    "\n",
    "cad        = _pyoce.Reader(\"./bodies.step\")\n",
    "freeShapes = cad.freeShapes()\n",
    "label = freeShapes.Value(1)\n",
    "shape = cad.shapeTool.GetShape(label)\n",
    "\n",
    "reg = _g4.Registry()\n",
    "tesselatedSolid = _con.oceShape_Geant4_Tessellated(\"cadSolid\",shape,reg)\n",
    "displaySolid(tesselatedSolid)"
   ]
  },
  {
   "cell_type": "markdown",
   "id": "8984bfe0-e861-4ec7-b424-519e302c39cd",
   "metadata": {
    "jp-MarkdownHeadingCollapsed": true,
    "tags": []
   },
   "source": [
    "# Compositing geometry"
   ]
  },
  {
   "cell_type": "code",
   "execution_count": null,
   "id": "a11b752e-297e-4179-8431-b763fba2efea",
   "metadata": {},
   "outputs": [],
   "source": []
  }
 ],
 "metadata": {
  "kernelspec": {
   "display_name": "Python 3 (ipykernel)",
   "language": "python",
   "name": "python3"
  },
  "language_info": {
   "codemirror_mode": {
    "name": "ipython",
    "version": 3
   },
   "file_extension": ".py",
   "mimetype": "text/x-python",
   "name": "python",
   "nbconvert_exporter": "python",
   "pygments_lexer": "ipython3",
   "version": "3.11.5"
  }
 },
 "nbformat": 4,
 "nbformat_minor": 5
}
