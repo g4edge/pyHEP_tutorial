{
 "cells": [
  {
   "cell_type": "markdown",
   "id": "cc5d5c72-70c1-4dd5-b1cb-412f7609ea47",
   "metadata": {
    "tags": []
   },
   "source": [
    "# Pyg4omety\n",
    "* **Stewart Boogert** (my first ever notebook talk, be kind!!) \n",
    "* Laurie Nevay\n",
    "* William Shields\n",
    "* Andrey Abramov\n",
    "* Luigi Pertoldi\n",
    "* Stuart Walker"
   ]
  },
  {
   "cell_type": "markdown",
   "id": "9da77625-da9c-4e73-92a3-ddff9691a07c",
   "metadata": {
    "jp-MarkdownHeadingCollapsed": true,
    "tags": []
   },
   "source": [
    "## Introduction"
   ]
  },
  {
   "cell_type": "markdown",
   "id": "85a2ad95-d7eb-4086-84be-9b9941ec2f19",
   "metadata": {
    "tags": []
   },
   "source": [
    "Usage notes \n",
    "  * This notebook requires that the requirements for VTK openGL rendering are installed. This is possible in docker and most modern linuxes. For those users where there installation is not working correctly. Screenshots of the output are included in the notebook. VTK embedded in jupyter is actively being developed, but the authors did not have sufficient time for testing\n",
    "  * Each section does not depend significantly on the previous section.\n",
    "  * Some of the output files generated in one section are used in subsequent sections"
   ]
  },
  {
   "cell_type": "markdown",
   "id": "239831fc-038c-445b-b34f-7d80c38d0fcb",
   "metadata": {
    "jp-MarkdownHeadingCollapsed": true,
    "tags": []
   },
   "source": [
    "## Creating a simple GDML/Geant4 geometry"
   ]
  },
  {
   "cell_type": "markdown",
   "id": "d54086f0-666e-438b-b895-106ae5e6ec7a",
   "metadata": {
    "tags": []
   },
   "source": [
    "### Create a registry "
   ]
  },
  {
   "cell_type": "markdown",
   "id": "12094069-5e19-4f57-be7f-b018e4d9aee4",
   "metadata": {
    "tags": []
   },
   "source": [
    "GDML really is a gloabl namespace for names of geometry objects. This global namescape needs to managed to avoid name clashes etc. This is very important when looking at geometry compositing"
   ]
  },
  {
   "cell_type": "code",
   "execution_count": 18,
   "id": "32f7e405-e1af-4b0f-a07c-46f2723ce3e0",
   "metadata": {
    "tags": []
   },
   "outputs": [],
   "source": [
    "from pyg4ometry import geant4 as _g4\n",
    "from pyg4ometry import visualisation as _vi\n",
    "from pyg4ometry import gdml as _gdml"
   ]
  },
  {
   "cell_type": "code",
   "execution_count": 19,
   "id": "f031b38c-065c-42ce-901d-f09572594172",
   "metadata": {
    "tags": []
   },
   "outputs": [],
   "source": [
    "reg = _g4.Registry()\n",
    "reg.clear()"
   ]
  },
  {
   "cell_type": "markdown",
   "id": "d6347191-9f03-4973-a909-76a7fe3f26b2",
   "metadata": {
    "tags": []
   },
   "source": [
    "### Create a few NIST materials"
   ]
  },
  {
   "cell_type": "code",
   "execution_count": 20,
   "id": "25a6ecfb-76e0-46d8-af31-c93e9e1f71c4",
   "metadata": {
    "tags": []
   },
   "outputs": [],
   "source": [
    "worldMaterial = _g4.nist_material_2geant4Material(\"G4_Galactic\", reg)\n",
    "boxMaterial   = _g4.nist_material_2geant4Material(\"G4_Au\", reg)"
   ]
  },
  {
   "cell_type": "markdown",
   "id": "c35ee515-e3a0-4ae2-ad86-405cc8607394",
   "metadata": {
    "tags": []
   },
   "source": [
    "### Create some solids"
   ]
  },
  {
   "cell_type": "code",
   "execution_count": 21,
   "id": "04933f8e-d4ba-40d2-a08b-222238d6d173",
   "metadata": {
    "tags": []
   },
   "outputs": [],
   "source": [
    "worldSolid = _g4.solid.Box(\"ws\", 100, 100, 100, reg, \"mm\")\n",
    "boxSolid   = _g4.solid.Box(\"bs\", 10, 10, 10, reg, \"mm\")"
   ]
  },
  {
   "cell_type": "markdown",
   "id": "e2e599b2-5d15-4be2-b45f-46478fb267dc",
   "metadata": {
    "tags": []
   },
   "source": [
    "### Create logical and physical volumes"
   ]
  },
  {
   "cell_type": "code",
   "execution_count": 22,
   "id": "a9f730e9-8976-4b56-bf64-d9ef1316470b",
   "metadata": {
    "tags": []
   },
   "outputs": [],
   "source": [
    "worldLogical = _g4.LogicalVolume(worldSolid, worldMaterial, \"worldLogical\", reg)\n",
    "boxLogical   = _g4.LogicalVolume(boxSolid, boxMaterial, \"boxlogical\", reg)\n",
    "boxPhysical  = _g4.PhysicalVolume([0, 0, 0], [0, 0, 0], boxLogical, \"boxPhysical1\", worldLogical, reg)\n",
    "reg.setWorld(worldLogical.name)"
   ]
  },
  {
   "cell_type": "markdown",
   "id": "a90da889-b22f-43cc-8668-a88ba77464ce",
   "metadata": {
    "tags": []
   },
   "source": [
    "### Visualise"
   ]
  },
  {
   "cell_type": "code",
   "execution_count": 23,
   "id": "2b85977b-7e9f-405d-a124-0a9c3f337749",
   "metadata": {
    "tags": []
   },
   "outputs": [],
   "source": [
    "v = _vi.VtkViewerNew()\n",
    "v.addLogicalVolume(reg.getWorldVolume())\n",
    "v.buildPipelinesAppend()\n",
    "v.view(interactive=True)"
   ]
  },
  {
   "cell_type": "markdown",
   "id": "30d0266c-934f-49e2-b5c6-ce5bdcf5ddce",
   "metadata": {
    "tags": []
   },
   "source": [
    "![Basic example screen shot](./screenshots/basicScreenshot.png)"
   ]
  },
  {
   "cell_type": "markdown",
   "id": "46ac7a5d-72a5-4b01-80d2-522f430473d4",
   "metadata": {
    "tags": []
   },
   "source": [
    "### Write to GDML file"
   ]
  },
  {
   "cell_type": "code",
   "execution_count": 8,
   "id": "357dcecc-38a2-4eb6-a9fc-be040d53ce92",
   "metadata": {
    "tags": []
   },
   "outputs": [],
   "source": [
    "w = _gdml.Writer()\n",
    "w.addDetector(reg)\n",
    "w.write(\"box.gdml\")"
   ]
  },
  {
   "cell_type": "markdown",
   "id": "49fd47cc-f23a-4273-ac9a-c6546f1d7ac1",
   "metadata": {
    "jp-MarkdownHeadingCollapsed": true,
    "tags": []
   },
   "source": [
    "## Parameterised geometry"
   ]
  },
  {
   "cell_type": "markdown",
   "id": "da6d053b-1a48-412f-859c-3e5a3f77ce8f",
   "metadata": {},
   "source": [
    "GDML supports variables which are evaluated when the geometry is used. "
   ]
  },
  {
   "cell_type": "code",
   "execution_count": 24,
   "id": "11fc3991-8546-4673-b050-317fbf568d3e",
   "metadata": {
    "tags": []
   },
   "outputs": [],
   "source": [
    "from pyg4ometry import geant4 as _g4\n",
    "from pyg4ometry import visualisation as _vi\n",
    "from pyg4ometry import gdml as _gdml\n",
    "reg = _g4.Registry()\n",
    "reg.clear()"
   ]
  },
  {
   "cell_type": "code",
   "execution_count": 25,
   "id": "5837629d-cb42-4331-a132-f960591c3621",
   "metadata": {
    "tags": []
   },
   "outputs": [],
   "source": [
    "worldSize = _gdml.Constant(\"boxSize\", 100, reg)\n",
    "boxSize   = _gdml.Constant(\"worldSize\", 10, reg)"
   ]
  },
  {
   "cell_type": "code",
   "execution_count": 26,
   "id": "7fe0e550-fecf-4dc3-9ab4-97b9e346f074",
   "metadata": {
    "tags": []
   },
   "outputs": [],
   "source": [
    "# materials \n",
    "worldMaterial = _g4.nist_material_2geant4Material(\"G4_Galactic\", reg)\n",
    "boxMaterial   = _g4.nist_material_2geant4Material(\"G4_Au\", reg)\n",
    "\n",
    "# solids \n",
    "worldSolid = _g4.solid.Box(\"ws\", worldSize, worldSize, worldSize, reg, \"mm\")\n",
    "boxSolid = _g4.solid.Box(\"bs\", boxSize, boxSize, boxSize, reg, \"mm\")\n",
    "\n",
    "# structure\n",
    "worldLogical = _g4.LogicalVolume(worldSolid, worldMaterial, \"worldLogical\", reg)\n",
    "boxLogical   = _g4.LogicalVolume(boxSolid, boxMaterial, \"boxlogical\", reg)\n",
    "boxPhysical  = _g4.PhysicalVolume([0, 0, 0], [0, 0, 0], boxLogical, \"boxPhysical1\", worldLogical, reg)\n",
    "\n",
    "# visualise\n",
    "reg.setWorld(worldLogical.name)\n",
    "v = _vi.VtkViewerNew()\n",
    "v.addLogicalVolume(reg.getWorldVolume())\n",
    "v.buildPipelinesAppend()\n",
    "v.view(interactive=True)"
   ]
  },
  {
   "cell_type": "markdown",
   "id": "1f438bdb-573e-4d74-b744-5cee11601935",
   "metadata": {
    "tags": []
   },
   "source": [
    "### Calculations using parameters"
   ]
  },
  {
   "cell_type": "code",
   "execution_count": 27,
   "id": "ef38eaa4-8732-4ede-a7cf-2dfcad081767",
   "metadata": {
    "tags": []
   },
   "outputs": [],
   "source": [
    "boxSize = worldSize/20"
   ]
  },
  {
   "cell_type": "code",
   "execution_count": 28,
   "id": "104c6b46-d328-4e70-a127-61e3c36dad07",
   "metadata": {
    "tags": []
   },
   "outputs": [
    {
     "data": {
      "text/plain": [
       "Constant : var_boxSize_div_20.000000000000000 = expr_var_boxSize_div_20.000000000000000 : (boxSize) / (20.000000000000000)"
      ]
     },
     "execution_count": 28,
     "metadata": {},
     "output_type": "execute_result"
    }
   ],
   "source": [
    "boxSize"
   ]
  },
  {
   "cell_type": "code",
   "execution_count": 30,
   "id": "302a6870-4d09-4811-b2da-5afa4b890068",
   "metadata": {
    "tags": []
   },
   "outputs": [],
   "source": [
    "import numpy as _np\n",
    "reg = _g4.Registry()\n",
    "reg.clear()\n",
    "\n",
    "worldSize = _gdml.Constant(\"boxSize\", 200, reg)\n",
    "boxSize = worldSize/20\n",
    "\n",
    "# materials \n",
    "worldMaterial = _g4.nist_material_2geant4Material(\"G4_Galactic\", reg)\n",
    "boxMaterial   = _g4.nist_material_2geant4Material(\"G4_Au\", reg)\n",
    "\n",
    "# solids \n",
    "worldSolid = _g4.solid.Box(\"ws\", worldSize, worldSize, worldSize, reg, \"mm\")\n",
    "boxSolid = _g4.solid.Box(\"bs\", boxSize, boxSize, boxSize, reg, \"mm\")\n",
    "\n",
    "ringRadius = _gdml.Constant(\"ringSize\", 50, reg)\n",
    "\n",
    "# structure\n",
    "worldLogical = _g4.LogicalVolume(worldSolid, worldMaterial, \"worldLogical\", reg)\n",
    "boxLogical   = _g4.LogicalVolume(boxSolid, boxMaterial, \"boxlogical\", reg)\n",
    "\n",
    "for i in range(0,20,1) :\n",
    "    ic = _gdml.Constant(\"i_\"+str(i),i/20,reg)\n",
    "    phi = 2*_np.pi*ic\n",
    "    x = ringRadius*_gdml.cos(phi)\n",
    "    y = ringRadius*_gdml.sin(phi)\n",
    "    \n",
    "    boxPhysical  = _g4.PhysicalVolume([0, 0, -phi], [x, y, 0], boxLogical, \"boxPhysical_\"+str(i), worldLogical, reg)\n",
    "\n",
    "# visualise\n",
    "reg.setWorld(worldLogical.name)\n",
    "v = _vi.VtkViewerNew()\n",
    "v.addLogicalVolume(reg.getWorldVolume())\n",
    "v.buildPipelinesAppend()\n",
    "v.view(interactive=True)"
   ]
  },
  {
   "cell_type": "markdown",
   "id": "6692eb3d-c1a4-4c5c-91cf-52301ba7b310",
   "metadata": {
    "tags": []
   },
   "source": [
    "Important to note that Constants are written to the GDML file"
   ]
  },
  {
   "cell_type": "code",
   "execution_count": 117,
   "id": "ac7ea149-597a-42ff-89c5-c5be6255e7b6",
   "metadata": {
    "tags": []
   },
   "outputs": [],
   "source": [
    "w = _gdml.Writer()\n",
    "w.addDetector(reg)\n",
    "w.write(\"boxRing.gdml\")"
   ]
  },
  {
   "cell_type": "code",
   "execution_count": 32,
   "id": "cd300ed1-8376-4ee9-934f-05497a516321",
   "metadata": {
    "tags": []
   },
   "outputs": [
    {
     "name": "stdout",
     "output_type": "stream",
     "text": [
      "<?xml version=\"1.0\" ?>\n",
      "<gdml xmlns:xsi=\"http://www.w3.org/2001/XMLSchema-instance\" xsi:noNamespaceSchemaLocation=\"http://service-spi.web.cern.ch/service-spi/app/releases/GDML/schema/gdml.xsd\">\n",
      "\t<define>\n",
      "\t\t<constant name=\"boxSize\" value=\"200.000000000000000\"/>\n",
      "\t\t<constant name=\"ringSize\" value=\"50.000000000000000\"/>\n",
      "\t\t<constant name=\"i_0\" value=\"0.000000000000000\"/>\n",
      "\t\t<constant name=\"i_1\" value=\"0.050000000000000\"/>\n",
      "\t\t<constant name=\"i_2\" value=\"0.100000000000000\"/>\n",
      "\t\t<constant name=\"i_3\" value=\"0.150000000000000\"/>\n",
      "\t\t<constant name=\"i_4\" value=\"0.200000000000000\"/>\n",
      "\t\t<constant name=\"i_5\" value=\"0.250000000000000\"/>\n",
      "\t\t<constant name=\"i_6\" value=\"0.300000000000000\"/>\n",
      "\t\t<constant name=\"i_7\" value=\"0.350000000000000\"/>\n",
      "\t\t<constant name=\"i_8\" value=\"0.400000000000000\"/>\n",
      "\t\t<constant name=\"i_9\" value=\"0.450000000000000\"/>\n",
      "\t\t<constant name=\"i_10\" value=\"0.500000000000000\"/>\n",
      "\t\t<constant name=\"i_11\" value=\"0.550000000000000\"/>\n",
      "\t\t<constant name=\"i_12\" value=\"0.600000000000000\"/>\n",
      "\t\t<constant name=\"i_13\" value=\"0.650000000000000\"/>\n",
      "\t\t<constant name=\"i_14\" value=\"0.700000000000000\"/>\n",
      "\t\t<constant name=\"i_15\" value=\"0.750000000000000\"/>\n",
      "\t\t<constant name=\"i_16\" value=\"0.800000000000000\"/>\n",
      "\t\t<constant name=\"i_17\" value=\"0.850000000000000\"/>\n",
      "\t\t<constant name=\"i_18\" value=\"0.900000000000000\"/>\n",
      "\t\t<constant name=\"i_19\" value=\"0.950000000000000\"/>\n",
      "\t</define>\n",
      "\t<materials>\n",
      "\t\t<isotope name=\"G4_H_1\" Z=\"1\" N=\"1\">\n",
      "\t\t\t<atom value=\"1.007825\"/>\n",
      "\t\t</isotope>\n",
      "\t\t<isotope name=\"G4_H_2\" Z=\"1\" N=\"2\">\n",
      "\t\t\t<atom value=\"2.014102\"/>\n",
      "\t\t</isotope>\n",
      "\t\t<element name=\"G4_H\" formula=\"H\">\n",
      "\t\t\t<fraction ref=\"G4_H_1\" n=\"0.999885\"/>\n",
      "\t\t\t<fraction ref=\"G4_H_2\" n=\"0.000115\"/>\n",
      "\t\t</element>\n",
      "\t\t<material name=\"G4_Galactic\" state=\"gas\">\n",
      "\t\t\t<D value=\"1e-25\"/>\n",
      "\t\t\t<fraction ref=\"G4_H\" n=\"1.0\"/>\n",
      "\t\t</material>\n",
      "\t\t<element name=\"G4_Au\" formula=\"Au\" Z=\"79\">\n",
      "\t\t\t<atom value=\"197\"/>\n",
      "\t\t</element>\n",
      "\t\t<material name=\"Material_G4_Au\" state=\"solid\">\n",
      "\t\t\t<D value=\"19.32\"/>\n",
      "\t\t\t<fraction ref=\"G4_Au\" n=\"1.0\"/>\n",
      "\t\t</material>\n",
      "\t</materials>\n",
      "\t<solids>\n",
      "\t\t<box name=\"ws\" x=\"boxSize\" y=\"boxSize\" z=\"boxSize\" lunit=\"mm\"/>\n",
      "\t\t<box name=\"bs\" x=\"(boxSize) / (20.000000000000000)\" y=\"(boxSize) / (20.000000000000000)\" z=\"(boxSize) / (20.000000000000000)\" lunit=\"mm\"/>\n",
      "\t</solids>\n",
      "\t<structure>\n",
      "\t\t<volume name=\"boxlogical\">\n",
      "\t\t\t<materialref ref=\"Material_G4_Au\"/>\n",
      "\t\t\t<solidref ref=\"bs\"/>\n",
      "\t\t</volume>\n",
      "\t\t<volume name=\"worldLogical\">\n",
      "\t\t\t<materialref ref=\"G4_Galactic\"/>\n",
      "\t\t\t<solidref ref=\"ws\"/>\n",
      "\t\t\t<physvol name=\"boxPhysical_0\">\n",
      "\t\t\t\t<volumeref ref=\"boxlogical\"/>\n",
      "\t\t\t\t<position name=\"boxPhysical_0_pos\" x=\"(ringSize) * (cos((i_0) * (6.283185307179586)))\" y=\"(ringSize) * (sin((i_0) * (6.283185307179586)))\" z=\"0.000000000000000\" unit=\"mm\"/>\n",
      "\t\t\t</physvol>\n",
      "\t\t\t<physvol name=\"boxPhysical_1\">\n",
      "\t\t\t\t<volumeref ref=\"boxlogical\"/>\n",
      "\t\t\t\t<position name=\"boxPhysical_1_pos\" x=\"(ringSize) * (cos((i_1) * (6.283185307179586)))\" y=\"(ringSize) * (sin((i_1) * (6.283185307179586)))\" z=\"0.000000000000000\" unit=\"mm\"/>\n",
      "\t\t\t\t<rotation name=\"boxPhysical_1_rot\" x=\"0.000000000000000\" y=\"0.000000000000000\" z=\"-((i_1) * (6.283185307179586))\" unit=\"rad\"/>\n",
      "\t\t\t</physvol>\n",
      "\t\t\t<physvol name=\"boxPhysical_2\">\n",
      "\t\t\t\t<volumeref ref=\"boxlogical\"/>\n",
      "\t\t\t\t<position name=\"boxPhysical_2_pos\" x=\"(ringSize) * (cos((i_2) * (6.283185307179586)))\" y=\"(ringSize) * (sin((i_2) * (6.283185307179586)))\" z=\"0.000000000000000\" unit=\"mm\"/>\n",
      "\t\t\t\t<rotation name=\"boxPhysical_2_rot\" x=\"0.000000000000000\" y=\"0.000000000000000\" z=\"-((i_2) * (6.283185307179586))\" unit=\"rad\"/>\n",
      "\t\t\t</physvol>\n",
      "\t\t\t<physvol name=\"boxPhysical_3\">\n",
      "\t\t\t\t<volumeref ref=\"boxlogical\"/>\n",
      "\t\t\t\t<position name=\"boxPhysical_3_pos\" x=\"(ringSize) * (cos((i_3) * (6.283185307179586)))\" y=\"(ringSize) * (sin((i_3) * (6.283185307179586)))\" z=\"0.000000000000000\" unit=\"mm\"/>\n",
      "\t\t\t\t<rotation name=\"boxPhysical_3_rot\" x=\"0.000000000000000\" y=\"0.000000000000000\" z=\"-((i_3) * (6.283185307179586))\" unit=\"rad\"/>\n",
      "\t\t\t</physvol>\n",
      "\t\t\t<physvol name=\"boxPhysical_4\">\n",
      "\t\t\t\t<volumeref ref=\"boxlogical\"/>\n",
      "\t\t\t\t<position name=\"boxPhysical_4_pos\" x=\"(ringSize) * (cos((i_4) * (6.283185307179586)))\" y=\"(ringSize) * (sin((i_4) * (6.283185307179586)))\" z=\"0.000000000000000\" unit=\"mm\"/>\n",
      "\t\t\t\t<rotation name=\"boxPhysical_4_rot\" x=\"0.000000000000000\" y=\"0.000000000000000\" z=\"-((i_4) * (6.283185307179586))\" unit=\"rad\"/>\n",
      "\t\t\t</physvol>\n",
      "\t\t\t<physvol name=\"boxPhysical_5\">\n",
      "\t\t\t\t<volumeref ref=\"boxlogical\"/>\n",
      "\t\t\t\t<position name=\"boxPhysical_5_pos\" x=\"(ringSize) * (cos((i_5) * (6.283185307179586)))\" y=\"(ringSize) * (sin((i_5) * (6.283185307179586)))\" z=\"0.000000000000000\" unit=\"mm\"/>\n",
      "\t\t\t\t<rotation name=\"boxPhysical_5_rot\" x=\"0.000000000000000\" y=\"0.000000000000000\" z=\"-((i_5) * (6.283185307179586))\" unit=\"rad\"/>\n",
      "\t\t\t</physvol>\n",
      "\t\t\t<physvol name=\"boxPhysical_6\">\n",
      "\t\t\t\t<volumeref ref=\"boxlogical\"/>\n",
      "\t\t\t\t<position name=\"boxPhysical_6_pos\" x=\"(ringSize) * (cos((i_6) * (6.283185307179586)))\" y=\"(ringSize) * (sin((i_6) * (6.283185307179586)))\" z=\"0.000000000000000\" unit=\"mm\"/>\n",
      "\t\t\t\t<rotation name=\"boxPhysical_6_rot\" x=\"0.000000000000000\" y=\"0.000000000000000\" z=\"-((i_6) * (6.283185307179586))\" unit=\"rad\"/>\n",
      "\t\t\t</physvol>\n",
      "\t\t\t<physvol name=\"boxPhysical_7\">\n",
      "\t\t\t\t<volumeref ref=\"boxlogical\"/>\n",
      "\t\t\t\t<position name=\"boxPhysical_7_pos\" x=\"(ringSize) * (cos((i_7) * (6.283185307179586)))\" y=\"(ringSize) * (sin((i_7) * (6.283185307179586)))\" z=\"0.000000000000000\" unit=\"mm\"/>\n",
      "\t\t\t\t<rotation name=\"boxPhysical_7_rot\" x=\"0.000000000000000\" y=\"0.000000000000000\" z=\"-((i_7) * (6.283185307179586))\" unit=\"rad\"/>\n",
      "\t\t\t</physvol>\n",
      "\t\t\t<physvol name=\"boxPhysical_8\">\n",
      "\t\t\t\t<volumeref ref=\"boxlogical\"/>\n",
      "\t\t\t\t<position name=\"boxPhysical_8_pos\" x=\"(ringSize) * (cos((i_8) * (6.283185307179586)))\" y=\"(ringSize) * (sin((i_8) * (6.283185307179586)))\" z=\"0.000000000000000\" unit=\"mm\"/>\n",
      "\t\t\t\t<rotation name=\"boxPhysical_8_rot\" x=\"0.000000000000000\" y=\"0.000000000000000\" z=\"-((i_8) * (6.283185307179586))\" unit=\"rad\"/>\n",
      "\t\t\t</physvol>\n",
      "\t\t\t<physvol name=\"boxPhysical_9\">\n",
      "\t\t\t\t<volumeref ref=\"boxlogical\"/>\n",
      "\t\t\t\t<position name=\"boxPhysical_9_pos\" x=\"(ringSize) * (cos((i_9) * (6.283185307179586)))\" y=\"(ringSize) * (sin((i_9) * (6.283185307179586)))\" z=\"0.000000000000000\" unit=\"mm\"/>\n",
      "\t\t\t\t<rotation name=\"boxPhysical_9_rot\" x=\"0.000000000000000\" y=\"0.000000000000000\" z=\"-((i_9) * (6.283185307179586))\" unit=\"rad\"/>\n",
      "\t\t\t</physvol>\n",
      "\t\t\t<physvol name=\"boxPhysical_10\">\n",
      "\t\t\t\t<volumeref ref=\"boxlogical\"/>\n",
      "\t\t\t\t<position name=\"boxPhysical_10_pos\" x=\"(ringSize) * (cos((i_10) * (6.283185307179586)))\" y=\"(ringSize) * (sin((i_10) * (6.283185307179586)))\" z=\"0.000000000000000\" unit=\"mm\"/>\n",
      "\t\t\t\t<rotation name=\"boxPhysical_10_rot\" x=\"0.000000000000000\" y=\"0.000000000000000\" z=\"-((i_10) * (6.283185307179586))\" unit=\"rad\"/>\n",
      "\t\t\t</physvol>\n",
      "\t\t\t<physvol name=\"boxPhysical_11\">\n",
      "\t\t\t\t<volumeref ref=\"boxlogical\"/>\n",
      "\t\t\t\t<position name=\"boxPhysical_11_pos\" x=\"(ringSize) * (cos((i_11) * (6.283185307179586)))\" y=\"(ringSize) * (sin((i_11) * (6.283185307179586)))\" z=\"0.000000000000000\" unit=\"mm\"/>\n",
      "\t\t\t\t<rotation name=\"boxPhysical_11_rot\" x=\"0.000000000000000\" y=\"0.000000000000000\" z=\"-((i_11) * (6.283185307179586))\" unit=\"rad\"/>\n",
      "\t\t\t</physvol>\n",
      "\t\t\t<physvol name=\"boxPhysical_12\">\n",
      "\t\t\t\t<volumeref ref=\"boxlogical\"/>\n",
      "\t\t\t\t<position name=\"boxPhysical_12_pos\" x=\"(ringSize) * (cos((i_12) * (6.283185307179586)))\" y=\"(ringSize) * (sin((i_12) * (6.283185307179586)))\" z=\"0.000000000000000\" unit=\"mm\"/>\n",
      "\t\t\t\t<rotation name=\"boxPhysical_12_rot\" x=\"0.000000000000000\" y=\"0.000000000000000\" z=\"-((i_12) * (6.283185307179586))\" unit=\"rad\"/>\n",
      "\t\t\t</physvol>\n",
      "\t\t\t<physvol name=\"boxPhysical_13\">\n",
      "\t\t\t\t<volumeref ref=\"boxlogical\"/>\n",
      "\t\t\t\t<position name=\"boxPhysical_13_pos\" x=\"(ringSize) * (cos((i_13) * (6.283185307179586)))\" y=\"(ringSize) * (sin((i_13) * (6.283185307179586)))\" z=\"0.000000000000000\" unit=\"mm\"/>\n",
      "\t\t\t\t<rotation name=\"boxPhysical_13_rot\" x=\"0.000000000000000\" y=\"0.000000000000000\" z=\"-((i_13) * (6.283185307179586))\" unit=\"rad\"/>\n",
      "\t\t\t</physvol>\n",
      "\t\t\t<physvol name=\"boxPhysical_14\">\n",
      "\t\t\t\t<volumeref ref=\"boxlogical\"/>\n",
      "\t\t\t\t<position name=\"boxPhysical_14_pos\" x=\"(ringSize) * (cos((i_14) * (6.283185307179586)))\" y=\"(ringSize) * (sin((i_14) * (6.283185307179586)))\" z=\"0.000000000000000\" unit=\"mm\"/>\n",
      "\t\t\t\t<rotation name=\"boxPhysical_14_rot\" x=\"0.000000000000000\" y=\"0.000000000000000\" z=\"-((i_14) * (6.283185307179586))\" unit=\"rad\"/>\n",
      "\t\t\t</physvol>\n",
      "\t\t\t<physvol name=\"boxPhysical_15\">\n",
      "\t\t\t\t<volumeref ref=\"boxlogical\"/>\n",
      "\t\t\t\t<position name=\"boxPhysical_15_pos\" x=\"(ringSize) * (cos((i_15) * (6.283185307179586)))\" y=\"(ringSize) * (sin((i_15) * (6.283185307179586)))\" z=\"0.000000000000000\" unit=\"mm\"/>\n",
      "\t\t\t\t<rotation name=\"boxPhysical_15_rot\" x=\"0.000000000000000\" y=\"0.000000000000000\" z=\"-((i_15) * (6.283185307179586))\" unit=\"rad\"/>\n",
      "\t\t\t</physvol>\n",
      "\t\t\t<physvol name=\"boxPhysical_16\">\n",
      "\t\t\t\t<volumeref ref=\"boxlogical\"/>\n",
      "\t\t\t\t<position name=\"boxPhysical_16_pos\" x=\"(ringSize) * (cos((i_16) * (6.283185307179586)))\" y=\"(ringSize) * (sin((i_16) * (6.283185307179586)))\" z=\"0.000000000000000\" unit=\"mm\"/>\n",
      "\t\t\t\t<rotation name=\"boxPhysical_16_rot\" x=\"0.000000000000000\" y=\"0.000000000000000\" z=\"-((i_16) * (6.283185307179586))\" unit=\"rad\"/>\n",
      "\t\t\t</physvol>\n",
      "\t\t\t<physvol name=\"boxPhysical_17\">\n",
      "\t\t\t\t<volumeref ref=\"boxlogical\"/>\n",
      "\t\t\t\t<position name=\"boxPhysical_17_pos\" x=\"(ringSize) * (cos((i_17) * (6.283185307179586)))\" y=\"(ringSize) * (sin((i_17) * (6.283185307179586)))\" z=\"0.000000000000000\" unit=\"mm\"/>\n",
      "\t\t\t\t<rotation name=\"boxPhysical_17_rot\" x=\"0.000000000000000\" y=\"0.000000000000000\" z=\"-((i_17) * (6.283185307179586))\" unit=\"rad\"/>\n",
      "\t\t\t</physvol>\n",
      "\t\t\t<physvol name=\"boxPhysical_18\">\n",
      "\t\t\t\t<volumeref ref=\"boxlogical\"/>\n",
      "\t\t\t\t<position name=\"boxPhysical_18_pos\" x=\"(ringSize) * (cos((i_18) * (6.283185307179586)))\" y=\"(ringSize) * (sin((i_18) * (6.283185307179586)))\" z=\"0.000000000000000\" unit=\"mm\"/>\n",
      "\t\t\t\t<rotation name=\"boxPhysical_18_rot\" x=\"0.000000000000000\" y=\"0.000000000000000\" z=\"-((i_18) * (6.283185307179586))\" unit=\"rad\"/>\n",
      "\t\t\t</physvol>\n",
      "\t\t\t<physvol name=\"boxPhysical_19\">\n",
      "\t\t\t\t<volumeref ref=\"boxlogical\"/>\n",
      "\t\t\t\t<position name=\"boxPhysical_19_pos\" x=\"(ringSize) * (cos((i_19) * (6.283185307179586)))\" y=\"(ringSize) * (sin((i_19) * (6.283185307179586)))\" z=\"0.000000000000000\" unit=\"mm\"/>\n",
      "\t\t\t\t<rotation name=\"boxPhysical_19_rot\" x=\"0.000000000000000\" y=\"0.000000000000000\" z=\"-((i_19) * (6.283185307179586))\" unit=\"rad\"/>\n",
      "\t\t\t</physvol>\n",
      "\t\t</volume>\n",
      "\t</structure>\n",
      "\t<setup name=\"Default\" version=\"1.0\">\n",
      "\t\t<world ref=\"worldLogical\"/>\n",
      "\t</setup>\n",
      "</gdml>\n"
     ]
    }
   ],
   "source": [
    "!cat boxRing.gdml"
   ]
  },
  {
   "cell_type": "markdown",
   "id": "5cc773aa-6528-4d6c-8c73-bf6e1f404149",
   "metadata": {
    "jupyter": {
     "outputs_hidden": true
    },
    "tags": []
   },
   "source": [
    "&#x26a0;&#xfe0f; Care needs to be taken in not using normal number types with modifying Constants, Defines and Quantities and only the appropriate class &#x26a0;&#xfe0f;"
   ]
  },
  {
   "cell_type": "markdown",
   "id": "88aef008-fa84-48d9-b066-ae76c414e8e1",
   "metadata": {
    "jupyter": {
     "outputs_hidden": true
    },
    "tags": []
   },
   "source": [
    "![Example parametrised construction](./screenshots/paramScreenShot.png)"
   ]
  },
  {
   "cell_type": "markdown",
   "id": "3cfb29e2-6478-4ba4-a310-a0b8b2551fe5",
   "metadata": {
    "jp-MarkdownHeadingCollapsed": true,
    "tags": []
   },
   "source": [
    "## Loading, understanding and  editing geometry"
   ]
  },
  {
   "cell_type": "markdown",
   "id": "28768ab8-77f1-4538-86f7-f36ce0c9412f",
   "metadata": {
    "tags": []
   },
   "source": [
    "Objects\n",
    " * solids, \n",
    " * materials \n",
    " * optical surfaces\n",
    " * logical volumes etc) \n",
    " \n",
    "can be stored in flat dictionaries as key - value pairs. The structure (logical volume - physical volume hierachy in stored as a multiply linked list within the logical and physics volume objects"
   ]
  },
  {
   "cell_type": "code",
   "execution_count": 50,
   "id": "c1a04168-d084-427a-b68d-ec8582505b57",
   "metadata": {
    "tags": []
   },
   "outputs": [],
   "source": [
    "from pyg4ometry import gdml as _gdml"
   ]
  },
  {
   "cell_type": "code",
   "execution_count": 51,
   "id": "67b5901b-727f-4b44-beac-b7e8588101fb",
   "metadata": {
    "tags": []
   },
   "outputs": [],
   "source": [
    "r = _gdml.Reader(\"box.gdml\")\n",
    "reg = r.getRegistry()"
   ]
  },
  {
   "cell_type": "code",
   "execution_count": 52,
   "id": "f8b63134-13f5-412e-824f-38a19c6d114f",
   "metadata": {
    "tags": []
   },
   "outputs": [
    {
     "data": {
      "text/plain": [
       "{'ws': Box : ws Expression : ws_pX = expr_ws_pX : 100 Expression : ws_pY = expr_ws_pY : 100 Expression : ws_pZ = expr_ws_pZ : 100,\n",
       " 'bs': Box : bs Expression : bs_pX = expr_bs_pX : 10 Expression : bs_pY = expr_bs_pY : 10 Expression : bs_pZ = expr_bs_pZ : 10}"
      ]
     },
     "execution_count": 52,
     "metadata": {},
     "output_type": "execute_result"
    }
   ],
   "source": [
    "reg.solidDict"
   ]
  },
  {
   "cell_type": "code",
   "execution_count": 53,
   "id": "13feb4e0-2976-4c8d-aaa2-a4c476862cec",
   "metadata": {
    "tags": []
   },
   "outputs": [
    {
     "data": {
      "text/plain": [
       "{'G4_H_1': <Isotope: G4_H_1>,\n",
       " 'G4_H_2': <Isotope: G4_H_2>,\n",
       " 'G4_H': <Element: G4_H>,\n",
       " 'G4_Au': <Element: G4_Au>,\n",
       " 'G4_Galactic': <Material: G4_Galactic>,\n",
       " 'Material_G4_Au': <Material: Material_G4_Au>}"
      ]
     },
     "execution_count": 53,
     "metadata": {},
     "output_type": "execute_result"
    }
   ],
   "source": [
    "reg.materialDict"
   ]
  },
  {
   "cell_type": "code",
   "execution_count": 56,
   "id": "4389adf7-3ac3-41da-a28d-acacd80bec75",
   "metadata": {
    "tags": []
   },
   "outputs": [
    {
     "name": "stdout",
     "output_type": "stream",
     "text": [
      "Logical volumes\n",
      "boxlogical logical Box : name=bs x=10.0 y=10.0 z=10.0\n",
      "worldLogical logical Box : name=ws x=100.0 y=100.0 z=100.0\n",
      "Physical volumes\n",
      "boxPhysical1 placement [0.0, 0.0, 0.0] [0.0, 0.0, 0.0]\n"
     ]
    }
   ],
   "source": [
    "print(\"Logical volumes\")    \n",
    "for lvKey in reg.logicalVolumeDict :\n",
    "    lv = reg.logicalVolumeDict[lvKey]\n",
    "    print(lvKey, lv.type, lv.solid)\n",
    "    \n",
    "print(\"Physical volumes\")    \n",
    "for pvKey in reg.physicalVolumeDict :\n",
    "    pv = reg.physicalVolumeDict[pvKey]\n",
    "    print(pvKey, pv.type, pv.position.eval(), pv.rotation.eval())"
   ]
  },
  {
   "cell_type": "code",
   "execution_count": 57,
   "id": "c22a463c-2644-4625-a6ae-6b9de614f08c",
   "metadata": {
    "tags": []
   },
   "outputs": [],
   "source": [
    "worldLogical = reg.getWorldVolume()"
   ]
  },
  {
   "cell_type": "markdown",
   "id": "e927ece5-1c1c-4bd6-a84d-d423c95d0316",
   "metadata": {
    "tags": []
   },
   "source": [
    "So the flattened storage is not appropriate for the geometry hierachy. The entire geometrical structure of a \"detector\" can be accessed via the **world logical volume** ooping over the daughter volumes of the world"
   ]
  },
  {
   "cell_type": "code",
   "execution_count": 61,
   "id": "846d71c6-90ab-437c-af9e-e0dbf7c39b42",
   "metadata": {
    "tags": []
   },
   "outputs": [
    {
     "name": "stdout",
     "output_type": "stream",
     "text": [
      "boxPhysical1\n"
     ]
    }
   ],
   "source": [
    "for dv in worldLogical.daughterVolumes: \n",
    "    print(dv.name)"
   ]
  },
  {
   "cell_type": "markdown",
   "id": "76d0e24d-fe37-4b53-ad9c-5d44063496d5",
   "metadata": {
    "tags": []
   },
   "source": [
    "Of course a physical volume has a logical volume. A logical volume has a list of daughter physical volumes. The hierachy looks some thing like this\n",
    "\n",
    "* logicalVolume (world) \n",
    "  * physicalVolume (daughter1) \n",
    "    * logicalVolume \n",
    "        * physicalVolume (daughter1-2)\n",
    "            * logicalVolume\n",
    "        * physicalVolume (daughter1-2)\n",
    "            * logicalVolume"
   ]
  },
  {
   "cell_type": "code",
   "execution_count": 62,
   "id": "333f0c5f-e21c-4d5b-b55d-f779a1dc7ea0",
   "metadata": {
    "tags": []
   },
   "outputs": [
    {
     "data": {
      "text/plain": [
       "Logical volume : boxlogical Box : name=bs x=10.0 y=10.0 z=10.0 Material_G4_Au"
      ]
     },
     "execution_count": 62,
     "metadata": {},
     "output_type": "execute_result"
    }
   ],
   "source": [
    "worldLogical.daughterVolumes[0].logicalVolume"
   ]
  },
  {
   "cell_type": "markdown",
   "id": "c548795d-2b7a-48e0-b58c-e45299df3d81",
   "metadata": {
    "tags": []
   },
   "source": [
    "The LV-PV tree (also called a scene tree in computer graphics) terminates on a logical volume. So for viewing and geometric algorithms the logical volume contains two represetnations of the solid, parametrised and tesselated mesh"
   ]
  },
  {
   "cell_type": "code",
   "execution_count": 37,
   "id": "298582c6-4b37-4794-9726-9cd852d25d86",
   "metadata": {
    "tags": []
   },
   "outputs": [
    {
     "data": {
      "text/plain": [
       "Box : ws Expression : ws_pX = expr_ws_pX : 100 Expression : ws_pY = expr_ws_pY : 100 Expression : ws_pZ = expr_ws_pZ : 100"
      ]
     },
     "execution_count": 37,
     "metadata": {},
     "output_type": "execute_result"
    }
   ],
   "source": [
    "worldLogical.solid"
   ]
  },
  {
   "cell_type": "code",
   "execution_count": 40,
   "id": "9faa575e-2448-41dd-a046-9fa05054feeb",
   "metadata": {
    "tags": []
   },
   "outputs": [],
   "source": [
    "worldLogical.mesh\n",
    "worldLogical.mesh.getBoundingBox()"
   ]
  },
  {
   "cell_type": "markdown",
   "id": "9d6d283c-548c-40c5-9278-e0e8355cbe5a",
   "metadata": {
    "tags": []
   },
   "source": [
    "&#x26a0;&#xfe0f; **When editing the in memory geometry structure (changing solids or placements etc). \n",
    "The geometry needs to be explicitly remeshed to keep the geometry consistent.** &#x26a0;&#xfe0f;"
   ]
  },
  {
   "cell_type": "markdown",
   "id": "935eef7d-c7f1-4615-90e8-3b17c15994fa",
   "metadata": {
    "jp-MarkdownHeadingCollapsed": true,
    "tags": []
   },
   "source": [
    "## Importing other formats"
   ]
  },
  {
   "cell_type": "markdown",
   "id": "e35dd44d-e239-49c8-bd28-e95e872e3f13",
   "metadata": {
    "tags": []
   },
   "source": [
    "Simple function to display a solid (nothing new here)"
   ]
  },
  {
   "cell_type": "code",
   "execution_count": 8,
   "id": "9ed57448-3f21-42e9-97c2-6e0573e52939",
   "metadata": {
    "tags": []
   },
   "outputs": [],
   "source": [
    "def displaySolid(solid) :\n",
    "    reg = _g4.Registry()\n",
    "    \n",
    "    # materials \n",
    "    worldMaterial = _g4.nist_material_2geant4Material(\"G4_Galactic\", reg)\n",
    "    material   = _g4.nist_material_2geant4Material(\"G4_Au\", reg)\n",
    "\n",
    "    # solids \n",
    "    worldSolid = _g4.solid.Box(\"worldSolid\", 25, 25, 25, reg, \"mm\")\n",
    "\n",
    "    # structure\n",
    "    worldLogical = _g4.LogicalVolume(worldSolid, worldMaterial, \"worldLogical\", reg)\n",
    "    logical   = _g4.LogicalVolume(solid, material, \"boxlogical\", reg)\n",
    "    physical  = _g4.PhysicalVolume([0, 0, 0], [0, 0, 0], logical, \"boxPhysical1\", worldLogical, reg)\n",
    "\n",
    "    # visualise\n",
    "    reg.setWorld(worldLogical.name)\n",
    "    v = _vi.VtkViewerNew()\n",
    "    v.addLogicalVolume(reg.getWorldVolume())\n",
    "    v.buildPipelinesAppend()\n",
    "    v.view(interactive=True)"
   ]
  },
  {
   "cell_type": "code",
   "execution_count": 9,
   "id": "57255590-9674-451f-b8dc-bd09e79273f7",
   "metadata": {
    "tags": []
   },
   "outputs": [],
   "source": [
    "from pyg4ometry import stl as _stl"
   ]
  },
  {
   "cell_type": "code",
   "execution_count": 10,
   "id": "a09842f1-b5ca-4edc-bab1-7de4303f2a2e",
   "metadata": {
    "tags": []
   },
   "outputs": [],
   "source": [
    "stl = _stl.Reader(\"./utah_teapot.stl\")\n",
    "stlSolid = stl.getSolid()\n",
    "displaySolid(stlSolid)"
   ]
  },
  {
   "cell_type": "markdown",
   "id": "042d2223-8c08-4ccb-aaa2-97a16488e468",
   "metadata": {
    "tags": []
   },
   "source": [
    "![Example STL file load](./screenshots/stlScreenshot.png)"
   ]
  },
  {
   "cell_type": "code",
   "execution_count": 11,
   "id": "ab220f34-6765-4bb8-a2d3-1888e5b9f6ac",
   "metadata": {
    "tags": []
   },
   "outputs": [],
   "source": [
    "from pyg4ometry import pyoce as _pyoce\n",
    "from pyg4ometry import convert as _con\n",
    "\n",
    "cad        = _pyoce.Reader(\"./bodies.step\")\n",
    "freeShapes = cad.freeShapes()\n",
    "label = freeShapes.Value(1)\n",
    "shape = cad.shapeTool.GetShape(label)\n",
    "\n",
    "reg = _g4.Registry()\n",
    "cadSolid = _con.oceShape_Geant4_Tessellated(\"cadSolid\",shape,reg)\n",
    "displaySolid(cadSolid)"
   ]
  },
  {
   "cell_type": "markdown",
   "id": "19d62bba-838f-4a0a-9b09-ddc1bb3acf31",
   "metadata": {
    "tags": []
   },
   "source": [
    "![Example a CAD (STEP) file load](./cadScreenShot.png)"
   ]
  },
  {
   "cell_type": "markdown",
   "id": "8984bfe0-e861-4ec7-b424-519e302c39cd",
   "metadata": {
    "jp-MarkdownHeadingCollapsed": true,
    "tags": []
   },
   "source": [
    "## Compositing geometry"
   ]
  },
  {
   "cell_type": "markdown",
   "id": "352588cf-b010-4667-83e1-fec354889573",
   "metadata": {},
   "source": [
    "In general if you have loaders from different formats, it is relatively simple of composite \n",
    "geometry together in a single in-memory representation. The problem comes with potential **name** clashes. To illustrate this we'll load our simple box example twice "
   ]
  },
  {
   "cell_type": "code",
   "execution_count": 16,
   "id": "b8c67046-b692-4fc6-a37a-c12c3138aeb4",
   "metadata": {
    "tags": []
   },
   "outputs": [],
   "source": [
    "reader1 = _gdml.Reader(\"box.gdml\")\n",
    "reader2 = _gdml.Reader(\"box.gdml\")\n",
    "registry1 = reader1.getRegistry()\n",
    "registry2 = reader2.getRegistry()"
   ]
  },
  {
   "cell_type": "code",
   "execution_count": 17,
   "id": "19c64dda-9da0-42d6-a947-52704426ae63",
   "metadata": {
    "tags": []
   },
   "outputs": [],
   "source": [
    "registry3 = _g4.Registry()\n",
    "registry3.clear()\n",
    "\n",
    "logicalVolume1 = registry1.getWorldVolume()\n",
    "logicalVolume2 = registry2.getWorldVolume()\n",
    "\n",
    "worldMaterial = _g4.nist_material_2geant4Material(\"G4_Galactic\", registry3)\n",
    "worldSolid    = _g4.solid.Box(\"worldSolid\", 500, 500, 500, registry3, \"mm\")\n",
    "worldLogical  = _g4.LogicalVolume(worldSolid, worldMaterial, \"worldLogical\", registry3)\n",
    "\n",
    "physicalVolume1 = _g4.PhysicalVolume([0,0, 0.5],[-150, 0, 0], logicalVolume1, \"file1Physical\", worldLogical, registry3) \n",
    "boxPhysical     = _g4.PhysicalVolume([0, 0, -0.5], [ 150, 0, 0], logicalVolume2, \"file2Physical\", worldLogical, registry3)\n",
    "\n",
    "registry3.addVolumeRecursive(logicalVolume1)\n",
    "registry3.addVolumeRecursive(logicalVolume2);\n",
    "registry3.setWorld(worldLogical.name)\n",
    "\n",
    "v = _vi.VtkViewerNew()\n",
    "v.addLogicalVolume(registry3.getWorldVolume())\n",
    "v.buildPipelinesAppend()\n",
    "v.view(interactive=True)"
   ]
  },
  {
   "cell_type": "markdown",
   "id": "d78e3dbd-9ff0-4fa6-8aa4-86669c27df37",
   "metadata": {
    "tags": []
   },
   "source": [
    "Ok lets take a look at the GDML output for the merged geometry"
   ]
  },
  {
   "cell_type": "code",
   "execution_count": 90,
   "id": "f99fce37-863d-4ae9-a008-13d24fa6b3e3",
   "metadata": {
    "collapsed": true,
    "jupyter": {
     "outputs_hidden": true
    },
    "tags": []
   },
   "outputs": [],
   "source": [
    "w = _gdml.Writer()\n",
    "w.addDetector(registry3)\n",
    "w.write(\"merge.gdml\")\n",
    "! cat merge.gdml"
   ]
  },
  {
   "cell_type": "markdown",
   "id": "cd8aed59-14e4-48e2-b158-dfc9ca5c75be",
   "metadata": {
    "tags": []
   },
   "source": [
    "![Example compositing two geometries](./screenshots/compositeScreenShot.png)"
   ]
  },
  {
   "cell_type": "markdown",
   "id": "402038b4-f67f-47df-afcb-8b5d56017863",
   "metadata": {
    "jupyter": {
     "outputs_hidden": true
    },
    "tags": []
   },
   "source": [
    "## Overlap checking"
   ]
  },
  {
   "cell_type": "markdown",
   "id": "be74565c-a1ab-4bca-8804-57ecc120109e",
   "metadata": {
    "jupyter": {
     "outputs_hidden": true
    },
    "tags": []
   },
   "source": [
    "So given a set of surface meshes it is possible to find the intersections between these meshes. This is exceptionally useful for debugging general problems with the simulation geomtery"
   ]
  },
  {
   "cell_type": "code",
   "execution_count": null,
   "id": "f7aa5e52-95d5-4cdd-8435-665bcc3c97a5",
   "metadata": {
    "tags": []
   },
   "outputs": [],
   "source": [
    "from pyg4ometry import geant4 as _g4\n",
    "from pyg4ometry import visualisation as _vi\n",
    "from pyg4ometry import gdml as _gdml\n",
    "reg = _g4.Registry()\n",
    "reg.clear()\n",
    "\n",
    "worldSize = _gdml.Constant(\"boxSize\", 100, reg)\n",
    "boxSize   = _gdml.Constant(\"worldSize\", 50, reg)\n",
    "\n",
    "# materials \n",
    "worldMaterial = _g4.nist_material_2geant4Material(\"G4_Galactic\", reg)\n",
    "boxMaterial   = _g4.nist_material_2geant4Material(\"G4_Au\", reg)\n",
    "\n",
    "# solids \n",
    "worldSolid = _g4.solid.Box(\"ws\", worldSize, worldSize, worldSize, reg, \"mm\")\n",
    "boxSolid = _g4.solid.Box(\"bs\", boxSize, boxSize, boxSize, reg, \"mm\")\n",
    "\n",
    "# structure\n",
    "worldLogical = _g4.LogicalVolume(worldSolid, worldMaterial, \"worldLogical\", reg)\n",
    "boxLogical   = _g4.LogicalVolume(boxSolid, boxMaterial, \"boxlogical\", reg)\n",
    "boxPhysical1  = _g4.PhysicalVolume([0, 0, 0], [-15+25, 0, 0], boxLogical, \"boxPhysical1\", worldLogical, reg)\n",
    "boxPhysical2  = _g4.PhysicalVolume([0, 0, 0], [15+25, 0, 0], boxLogical, \"boxPhysical2\", worldLogical, reg)\n",
    "\n",
    "worldLogical.checkOverlaps(True)\n",
    "\n",
    "# visualise\n",
    "reg.setWorld(worldLogical.name)\n",
    "v = _vi.VtkViewerNew()\n",
    "v.addLogicalVolume(reg.getWorldVolume())\n",
    "v.buildPipelinesAppend()\n",
    "v.view(interactive=True)"
   ]
  },
  {
   "cell_type": "markdown",
   "id": "548e3a76-6cb0-481f-a608-d8eb214e0d68",
   "metadata": {
    "tags": []
   },
   "source": [
    "![VTK visualisation of overlaps](./screenshots/overlapScreenShot.png)"
   ]
  },
  {
   "cell_type": "markdown",
   "id": "a85b6664-db36-487c-85fb-8f89b16ed391",
   "metadata": {
    "tags": []
   },
   "source": [
    "&#x26a0;&#xfe0f; **Overlap detection is an approximation as the mesh representing the solid is an approximation. Clearly a better approximation can be achieved if a denser mesh is used, but at an increased computational cost. Not using techniques based on apporximate meshes because potentiall accuracy issues then prevents rapid approximate methods, but user mush be awear of this** &#x26a0;&#xfe0f;"
   ]
  },
  {
   "cell_type": "markdown",
   "id": "2f7dd0c4-c169-4738-8c44-9b3750c58e5e",
   "metadata": {
    "tags": []
   },
   "source": [
    "## Converting to other codes (FLUKA)"
   ]
  },
  {
   "cell_type": "markdown",
   "id": "c17e70cd-f137-4f09-b0a1-d9b545d91830",
   "metadata": {
    "tags": []
   },
   "source": [
    "Having an API for geometry allows for some impressive applications. Interoperation between Geant4 and infinite half space representations of geometry (H-Rep) has been a challenge. With a few algorithms from CGAL (for example 2D decomposition to union of convex hulls) can write simple converter.\n",
    "\n",
    "Here have a similar API to FLUKA geometry and FLUKA registry and develop algorithm to convert between representations.\n",
    "\n",
    "&#x26a0;&#xfe0f; **Translating between GDML and FLUKA is relatively simple, apart from twisted solids. Going in the other direction (FLUKA to GDML) is rather more challenging and although supported by pyg4ometry is not elegant or robust.** &#x26a0;&#xfe0f;"
   ]
  },
  {
   "cell_type": "code",
   "execution_count": 110,
   "id": "d9230630-2baf-4cd0-9a2c-b6d12376f98c",
   "metadata": {
    "tags": []
   },
   "outputs": [],
   "source": [
    "from pyg4ometry import gdml as _gdml\n",
    "from pyg4ometry import convert as _convert\n",
    "from pyg4ometry import fluka as _fluka"
   ]
  },
  {
   "cell_type": "code",
   "execution_count": 118,
   "id": "134305d5-7426-4c1d-81bc-9f441ffa8fb9",
   "metadata": {
    "tags": []
   },
   "outputs": [],
   "source": [
    "r = _gdml.Reader(\"boxRing.gdml\")"
   ]
  },
  {
   "cell_type": "code",
   "execution_count": 119,
   "id": "94fbca88-b46f-473d-aef9-0bcf5b92875a",
   "metadata": {
    "tags": []
   },
   "outputs": [],
   "source": [
    "freg = _convert.geant4Reg2FlukaReg(r.getRegistry())"
   ]
  },
  {
   "cell_type": "code",
   "execution_count": 120,
   "id": "4996f1a7-a732-452e-a324-2af7b75f813c",
   "metadata": {
    "tags": []
   },
   "outputs": [],
   "source": [
    "w = _fluka.Writer()\n",
    "w.addDetector(freg)\n",
    "w.write(\"boxRing.inp\")"
   ]
  },
  {
   "cell_type": "code",
   "execution_count": 121,
   "id": "ea05eead-76e1-4afd-a522-b014dc263cb2",
   "metadata": {
    "collapsed": true,
    "jupyter": {
     "outputs_hidden": true
    },
    "tags": []
   },
   "outputs": [
    {
     "name": "stdout",
     "output_type": "stream",
     "text": [
      "FREE\n",
      "GEOBEGIN , , , , , , , COMBNAME\n",
      "    0    0\n",
      "RPP BLKBODY -20.0 20.0 -20.0 20.0 -20.0 20.0\n",
      "* worldLogical ws\n",
      "RPP B000001 -10.0 10.0 -10.0 10.0 -10.0 10.0\n",
      "$start_transform T0002\n",
      "* boxPhysical_0 bs\n",
      "RPP B000201 -0.5 0.5 -0.5 0.5 -0.5 0.5\n",
      "$end_transform\n",
      "$start_transform T0003\n",
      "* boxPhysical_1 bs\n",
      "RPP B000301 -0.5 0.5 -0.5 0.5 -0.5 0.5\n",
      "$end_transform\n",
      "$start_transform T0004\n",
      "* boxPhysical_2 bs\n",
      "RPP B000401 -0.5 0.5 -0.5 0.5 -0.5 0.5\n",
      "$end_transform\n",
      "$start_transform T0005\n",
      "* boxPhysical_3 bs\n",
      "RPP B000501 -0.5 0.5 -0.5 0.5 -0.5 0.5\n",
      "$end_transform\n",
      "$start_transform T0006\n",
      "* boxPhysical_4 bs\n",
      "RPP B000601 -0.5 0.5 -0.5 0.5 -0.5 0.5\n",
      "$end_transform\n",
      "$start_transform T0007\n",
      "* boxPhysical_5 bs\n",
      "RPP B000701 -0.5 0.5 -0.5 0.5 -0.5 0.5\n",
      "$end_transform\n",
      "$start_transform T0008\n",
      "* boxPhysical_6 bs\n",
      "RPP B000801 -0.5 0.5 -0.5 0.5 -0.5 0.5\n",
      "$end_transform\n",
      "$start_transform T0009\n",
      "* boxPhysical_7 bs\n",
      "RPP B000901 -0.5 0.5 -0.5 0.5 -0.5 0.5\n",
      "$end_transform\n",
      "$start_transform T0010\n",
      "* boxPhysical_8 bs\n",
      "RPP B001001 -0.5 0.5 -0.5 0.5 -0.5 0.5\n",
      "$end_transform\n",
      "$start_transform T0011\n",
      "* boxPhysical_9 bs\n",
      "RPP B001101 -0.5 0.5 -0.5 0.5 -0.5 0.5\n",
      "$end_transform\n",
      "$start_transform T0012\n",
      "* boxPhysical_10 bs\n",
      "RPP B001201 -0.5 0.5 -0.5 0.5 -0.5 0.5\n",
      "$end_transform\n",
      "$start_transform T0013\n",
      "* boxPhysical_11 bs\n",
      "RPP B001301 -0.5 0.5 -0.5 0.5 -0.5 0.5\n",
      "$end_transform\n",
      "$start_transform T0014\n",
      "* boxPhysical_12 bs\n",
      "RPP B001401 -0.5 0.5 -0.5 0.5 -0.5 0.5\n",
      "$end_transform\n",
      "$start_transform T0015\n",
      "* boxPhysical_13 bs\n",
      "RPP B001501 -0.5 0.5 -0.5 0.5 -0.5 0.5\n",
      "$end_transform\n",
      "$start_transform T0016\n",
      "* boxPhysical_14 bs\n",
      "RPP B001601 -0.5 0.5 -0.5 0.5 -0.5 0.5\n",
      "$end_transform\n",
      "$start_transform T0017\n",
      "* boxPhysical_15 bs\n",
      "RPP B001701 -0.5 0.5 -0.5 0.5 -0.5 0.5\n",
      "$end_transform\n",
      "$start_transform T0018\n",
      "* boxPhysical_16 bs\n",
      "RPP B001801 -0.5 0.5 -0.5 0.5 -0.5 0.5\n",
      "$end_transform\n",
      "$start_transform T0019\n",
      "* boxPhysical_17 bs\n",
      "RPP B001901 -0.5 0.5 -0.5 0.5 -0.5 0.5\n",
      "$end_transform\n",
      "$start_transform T0020\n",
      "* boxPhysical_18 bs\n",
      "RPP B002001 -0.5 0.5 -0.5 0.5 -0.5 0.5\n",
      "$end_transform\n",
      "$start_transform T0021\n",
      "* boxPhysical_19 bs\n",
      "RPP B002101 -0.5 0.5 -0.5 0.5 -0.5 0.5\n",
      "$end_transform\n",
      "END\n",
      "* boxPhysical_0\n",
      "R0002 5 | +B000201\n",
      "* boxPhysical_1\n",
      "R0003 5 | +B000301\n",
      "* boxPhysical_2\n",
      "R0004 5 | +B000401\n",
      "* boxPhysical_3\n",
      "R0005 5 | +B000501\n",
      "* boxPhysical_4\n",
      "R0006 5 | +B000601\n",
      "* boxPhysical_5\n",
      "R0007 5 | +B000701\n",
      "* boxPhysical_6\n",
      "R0008 5 | +B000801\n",
      "* boxPhysical_7\n",
      "R0009 5 | +B000901\n",
      "* boxPhysical_8\n",
      "R0010 5 | +B001001\n",
      "* boxPhysical_9\n",
      "R0011 5 | +B001101\n",
      "* boxPhysical_10\n",
      "R0012 5 | +B001201\n",
      "* boxPhysical_11\n",
      "R0013 5 | +B001301\n",
      "* boxPhysical_12\n",
      "R0014 5 | +B001401\n",
      "* boxPhysical_13\n",
      "R0015 5 | +B001501\n",
      "* boxPhysical_14\n",
      "R0016 5 | +B001601\n",
      "* boxPhysical_15\n",
      "R0017 5 | +B001701\n",
      "* boxPhysical_16\n",
      "R0018 5 | +B001801\n",
      "* boxPhysical_17\n",
      "R0019 5 | +B001901\n",
      "* boxPhysical_18\n",
      "R0020 5 | +B002001\n",
      "* boxPhysical_19\n",
      "R0021 5 | +B002101\n",
      "BLKHOLE 5 | +BLKBODY -( +B000001)\n",
      "R0000 5 | +B000001 -( +B000201) -( +B000301) -( +B000401) -( +B000501) -( +B000601) -( +B000701) -( +B000801) -(\n",
      "        +B000901) -( +B001001) -( +B001101) -( +B001201) -( +B001301) -( +B001401) -( +B001501) -( +B001601) -( +B001701) -(\n",
      "        +B001801) -( +B001901) -( +B002001) -( +B002101)\n",
      "END\n",
      "GEOEND\n",
      "FREE\n",
      "*...+....1....+....2....+....3....+....4....+....5....+....6....+....7....+...\n",
      "* isotope: G4_H_1\n",
      "MATERIAL, 1.0, 1.007825, 10.0, , , 1.0, M0000000\n",
      "* isotope: G4_H_2\n",
      "MATERIAL, 1.0, 2.014102, 10.0, , , 2.0, M0000001\n",
      "* element-composite: G4_H\n",
      "MATERIAL, , , 0.123456789, , , , M00000\n",
      "COMPOUND, 0.999885, M0000000, 0.000115, M0000001, , , M00000\n",
      "* material-composite: G4_Galactic\n",
      "MATERIAL, , , 1e-25, , , , M000\n",
      "COMPOUND, -1.0, M00000, , , , , M000\n",
      "* element-simple: G4_Au\n",
      "MATERIAL, 79.0, , 19.32, , , 197.0, M00100\n",
      "* material-composite: Material_G4_Au\n",
      "MATERIAL, , , 19.32, , , , M001\n",
      "COMPOUND, -1.0, M00100, , , , , M001\n",
      "ASSIGNMA M001 R0002\n",
      "ASSIGNMA M001 R0003\n",
      "ASSIGNMA M001 R0004\n",
      "ASSIGNMA M001 R0005\n",
      "ASSIGNMA M001 R0006\n",
      "ASSIGNMA M001 R0007\n",
      "ASSIGNMA M001 R0008\n",
      "ASSIGNMA M001 R0009\n",
      "ASSIGNMA M001 R0010\n",
      "ASSIGNMA M001 R0011\n",
      "ASSIGNMA M001 R0012\n",
      "ASSIGNMA M001 R0013\n",
      "ASSIGNMA M001 R0014\n",
      "ASSIGNMA M001 R0015\n",
      "ASSIGNMA M001 R0016\n",
      "ASSIGNMA M001 R0017\n",
      "ASSIGNMA M001 R0018\n",
      "ASSIGNMA M001 R0019\n",
      "ASSIGNMA M001 R0020\n",
      "ASSIGNMA M001 R0021\n",
      "ASSIGNMA BLCKHOLE BLKHOLE\n",
      "ASSIGNMA M000 R0000\n",
      "ROT-DEFI, 2000.0, 0.0, 0.0, 5.0, 0.0, 0.0, T0002\n",
      "ROT-DEFI, 3003.0, 0.0, -18.0, 0.0, 0.0, 0.0, T0003\n",
      "ROT-DEFI, 3000.0, 0.0, 0.0, 4.755282581475767, 1.545084971874737, 0.0, T0003\n",
      "ROT-DEFI, 4003.0, 0.0, -36.0, 0.0, 0.0, 0.0, T0004\n",
      "ROT-DEFI, 4000.0, 0.0, 0.0, 4.045084971874737, 2.938926261462366, 0.0, T0004\n",
      "ROT-DEFI, 5003.0, 0.0, -54.00000000000001, 0.0, 0.0, 0.0, T0005\n",
      "ROT-DEFI, 5000.0, 0.0, 0.0, 2.938926261462366, 4.045084971874737, 0.0, T0005\n",
      "ROT-DEFI, 6003.0, 0.0, -72.0, 0.0, 0.0, 0.0, T0006\n",
      "ROT-DEFI, 6000.0, 0.0, 0.0, 1.5450849718747373, 4.755282581475767, 0.0, T0006\n",
      "ROT-DEFI, 7003.0, 0.0, -90.0, 0.0, 0.0, 0.0, T0007\n",
      "ROT-DEFI, 7000.0, 0.0, 0.0, 3.061616997868383e-16, 5.0, 0.0, T0007\n",
      "ROT-DEFI, 8003.0, 0.0, -108.0, 0.0, 0.0, 0.0, T0008\n",
      "ROT-DEFI, 8000.0, 0.0, 0.0, -1.5450849718747368, 4.755282581475768, 0.0, T0008\n",
      "ROT-DEFI, 9003.0, 0.0, -126.0, 0.0, 0.0, 0.0, T0009\n",
      "ROT-DEFI, 9000.0, 0.0, 0.0, -2.938926261462365, 4.045084971874737, 0.0, T0009\n",
      "ROT-DEFI, 10003.0, 0.0, -144.0, 0.0, 0.0, 0.0, T0010\n",
      "ROT-DEFI, 10000.0, 0.0, 0.0, -4.045084971874736, 2.9389262614623664, 0.0, T0010\n",
      "ROT-DEFI, 11003.0, 0.0, -162.0, 0.0, 0.0, 0.0, T0011\n",
      "ROT-DEFI, 11000.0, 0.0, 0.0, -4.755282581475767, 1.5450849718747377, 0.0, T0011\n",
      "ROT-DEFI, 12003.0, 0.0, -180.0, 0.0, 0.0, 0.0, T0012\n",
      "ROT-DEFI, 12000.0, 0.0, 0.0, -5.0, 6.123233995736766e-16, 0.0, T0012\n",
      "ROT-DEFI, 13003.0, 0.0, 162.0, 0.0, 0.0, 0.0, T0013\n",
      "ROT-DEFI, 13000.0, 0.0, 0.0, -4.755282581475767, -1.5450849718747388, 0.0, T0013\n",
      "ROT-DEFI, 14003.0, 0.0, 144.0, 0.0, 0.0, 0.0, T0014\n",
      "ROT-DEFI, 14000.0, 0.0, 0.0, -4.045084971874737, -2.938926261462365, 0.0, T0014\n",
      "ROT-DEFI, 15003.0, 0.0, 126.00000000000003, 0.0, 0.0, 0.0, T0015\n",
      "ROT-DEFI, 15000.0, 0.0, 0.0, -2.9389262614623664, -4.045084971874736, 0.0, T0015\n",
      "ROT-DEFI, 16003.0, 0.0, 108.00000000000001, 0.0, 0.0, 0.0, T0016\n",
      "ROT-DEFI, 16000.0, 0.0, 0.0, -1.545084971874738, -4.755282581475767, 0.0, T0016\n",
      "ROT-DEFI, 17003.0, 0.0, 90.00000000000001, 0.0, 0.0, 0.0, T0017\n",
      "ROT-DEFI, 17000.0, 0.0, 0.0, -9.18485099360515e-16, -5.0, 0.0, T0017\n",
      "ROT-DEFI, 18003.0, 0.0, 72.00000000000001, 0.0, 0.0, 0.0, T0018\n",
      "ROT-DEFI, 18000.0, 0.0, 0.0, 1.5450849718747364, -4.755282581475768, 0.0, T0018\n",
      "ROT-DEFI, 19003.0, 0.0, 54.000000000000014, 0.0, 0.0, 0.0, T0019\n",
      "ROT-DEFI, 19000.0, 0.0, 0.0, 2.938926261462365, -4.045084971874738, 0.0, T0019\n",
      "ROT-DEFI, 20003.0, 0.0, 36.000000000000014, 0.0, 0.0, 0.0, T0020\n",
      "ROT-DEFI, 20000.0, 0.0, 0.0, 4.045084971874736, -2.938926261462367, 0.0, T0020\n",
      "ROT-DEFI, 21003.0, 0.0, 18.000000000000014, 0.0, 0.0, 0.0, T0021\n",
      "ROT-DEFI, 21000.0, 0.0, 0.0, 4.755282581475767, -1.5450849718747384, 0.0, T0021\n"
     ]
    }
   ],
   "source": [
    "!cat boxRing.inp"
   ]
  },
  {
   "cell_type": "markdown",
   "id": "6c8a7bb7-ec5d-466d-b63c-a09bfce9befb",
   "metadata": {
    "tags": []
   },
   "source": [
    "![Flair FLUKA GUI interface](./screenshots/flairScreenShot.png)\n",
    "\n",
    "This is Flair a GUI interface to FLUKA input files. "
   ]
  }
 ],
 "metadata": {
  "kernelspec": {
   "display_name": "Python 3 (ipykernel)",
   "language": "python",
   "name": "python3"
  },
  "language_info": {
   "codemirror_mode": {
    "name": "ipython",
    "version": 3
   },
   "file_extension": ".py",
   "mimetype": "text/x-python",
   "name": "python",
   "nbconvert_exporter": "python",
   "pygments_lexer": "ipython3",
   "version": "3.11.5"
  }
 },
 "nbformat": 4,
 "nbformat_minor": 5
}
